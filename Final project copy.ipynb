{
 "cells": [
  {
   "cell_type": "code",
   "execution_count": 1,
   "id": "eda4ef27",
   "metadata": {},
   "outputs": [],
   "source": [
    "# Data handling and preprocessing\n",
    "import pandas as pd\n",
    "import numpy as np\n",
    "\n",
    "# Machine learning models and evaluation\n",
    "from sklearn.model_selection import train_test_split\n",
    "from sklearn.ensemble import RandomForestClassifier\n",
    "from sklearn.metrics import classification_report, accuracy_score\n",
    "\n",
    "# Handling imbalanced data (e.g., SMOTE)\n",
    "from imblearn.over_sampling import SMOTE\n",
    "\n",
    "# For handling missing data\n",
    "from sklearn.impute import SimpleImputer\n",
    "\n",
    "# For encoding categorical variables\n",
    "from sklearn.preprocessing import LabelEncoder\n",
    "\n",
    "# Model selection and optimization\n",
    "from sklearn.model_selection import GridSearchCV\n",
    "\n",
    "# For plotting\n",
    "import matplotlib.pyplot as plt\n",
    "import seaborn as sns\n"
   ]
  },
  {
   "cell_type": "code",
   "execution_count": null,
   "id": "8debeed6",
   "metadata": {},
   "outputs": [],
   "source": []
  },
  {
   "cell_type": "code",
   "execution_count": 2,
   "id": "98660dac",
   "metadata": {},
   "outputs": [],
   "source": [
    "transactions = pd.read_csv(\"transactions_data.csv\")"
   ]
  },
  {
   "cell_type": "code",
   "execution_count": 3,
   "id": "b792c1e4",
   "metadata": {},
   "outputs": [
    {
     "data": {
      "text/html": [
       "<div>\n",
       "<style scoped>\n",
       "    .dataframe tbody tr th:only-of-type {\n",
       "        vertical-align: middle;\n",
       "    }\n",
       "\n",
       "    .dataframe tbody tr th {\n",
       "        vertical-align: top;\n",
       "    }\n",
       "\n",
       "    .dataframe thead th {\n",
       "        text-align: right;\n",
       "    }\n",
       "</style>\n",
       "<table border=\"1\" class=\"dataframe\">\n",
       "  <thead>\n",
       "    <tr style=\"text-align: right;\">\n",
       "      <th></th>\n",
       "      <th>id</th>\n",
       "      <th>date</th>\n",
       "      <th>client_id</th>\n",
       "      <th>card_id</th>\n",
       "      <th>amount</th>\n",
       "      <th>use_chip</th>\n",
       "      <th>merchant_id</th>\n",
       "      <th>merchant_city</th>\n",
       "      <th>merchant_state</th>\n",
       "      <th>zip</th>\n",
       "      <th>mcc</th>\n",
       "      <th>errors</th>\n",
       "    </tr>\n",
       "  </thead>\n",
       "  <tbody>\n",
       "    <tr>\n",
       "      <th>0</th>\n",
       "      <td>7475327</td>\n",
       "      <td>2010-01-01 00:01:00</td>\n",
       "      <td>1556</td>\n",
       "      <td>2972</td>\n",
       "      <td>$-77.00</td>\n",
       "      <td>Swipe Transaction</td>\n",
       "      <td>59935</td>\n",
       "      <td>Beulah</td>\n",
       "      <td>ND</td>\n",
       "      <td>58523.0</td>\n",
       "      <td>5499</td>\n",
       "      <td>NaN</td>\n",
       "    </tr>\n",
       "    <tr>\n",
       "      <th>1</th>\n",
       "      <td>7475328</td>\n",
       "      <td>2010-01-01 00:02:00</td>\n",
       "      <td>561</td>\n",
       "      <td>4575</td>\n",
       "      <td>$14.57</td>\n",
       "      <td>Swipe Transaction</td>\n",
       "      <td>67570</td>\n",
       "      <td>Bettendorf</td>\n",
       "      <td>IA</td>\n",
       "      <td>52722.0</td>\n",
       "      <td>5311</td>\n",
       "      <td>NaN</td>\n",
       "    </tr>\n",
       "    <tr>\n",
       "      <th>2</th>\n",
       "      <td>7475329</td>\n",
       "      <td>2010-01-01 00:02:00</td>\n",
       "      <td>1129</td>\n",
       "      <td>102</td>\n",
       "      <td>$80.00</td>\n",
       "      <td>Swipe Transaction</td>\n",
       "      <td>27092</td>\n",
       "      <td>Vista</td>\n",
       "      <td>CA</td>\n",
       "      <td>92084.0</td>\n",
       "      <td>4829</td>\n",
       "      <td>NaN</td>\n",
       "    </tr>\n",
       "    <tr>\n",
       "      <th>3</th>\n",
       "      <td>7475331</td>\n",
       "      <td>2010-01-01 00:05:00</td>\n",
       "      <td>430</td>\n",
       "      <td>2860</td>\n",
       "      <td>$200.00</td>\n",
       "      <td>Swipe Transaction</td>\n",
       "      <td>27092</td>\n",
       "      <td>Crown Point</td>\n",
       "      <td>IN</td>\n",
       "      <td>46307.0</td>\n",
       "      <td>4829</td>\n",
       "      <td>NaN</td>\n",
       "    </tr>\n",
       "    <tr>\n",
       "      <th>4</th>\n",
       "      <td>7475332</td>\n",
       "      <td>2010-01-01 00:06:00</td>\n",
       "      <td>848</td>\n",
       "      <td>3915</td>\n",
       "      <td>$46.41</td>\n",
       "      <td>Swipe Transaction</td>\n",
       "      <td>13051</td>\n",
       "      <td>Harwood</td>\n",
       "      <td>MD</td>\n",
       "      <td>20776.0</td>\n",
       "      <td>5813</td>\n",
       "      <td>NaN</td>\n",
       "    </tr>\n",
       "    <tr>\n",
       "      <th>...</th>\n",
       "      <td>...</td>\n",
       "      <td>...</td>\n",
       "      <td>...</td>\n",
       "      <td>...</td>\n",
       "      <td>...</td>\n",
       "      <td>...</td>\n",
       "      <td>...</td>\n",
       "      <td>...</td>\n",
       "      <td>...</td>\n",
       "      <td>...</td>\n",
       "      <td>...</td>\n",
       "      <td>...</td>\n",
       "    </tr>\n",
       "    <tr>\n",
       "      <th>13305910</th>\n",
       "      <td>23761868</td>\n",
       "      <td>2019-10-31 23:56:00</td>\n",
       "      <td>1718</td>\n",
       "      <td>2379</td>\n",
       "      <td>$1.11</td>\n",
       "      <td>Chip Transaction</td>\n",
       "      <td>86438</td>\n",
       "      <td>West Covina</td>\n",
       "      <td>CA</td>\n",
       "      <td>91792.0</td>\n",
       "      <td>5499</td>\n",
       "      <td>NaN</td>\n",
       "    </tr>\n",
       "    <tr>\n",
       "      <th>13305911</th>\n",
       "      <td>23761869</td>\n",
       "      <td>2019-10-31 23:56:00</td>\n",
       "      <td>1766</td>\n",
       "      <td>2066</td>\n",
       "      <td>$12.80</td>\n",
       "      <td>Online Transaction</td>\n",
       "      <td>39261</td>\n",
       "      <td>ONLINE</td>\n",
       "      <td>NaN</td>\n",
       "      <td>NaN</td>\n",
       "      <td>5815</td>\n",
       "      <td>NaN</td>\n",
       "    </tr>\n",
       "    <tr>\n",
       "      <th>13305912</th>\n",
       "      <td>23761870</td>\n",
       "      <td>2019-10-31 23:57:00</td>\n",
       "      <td>199</td>\n",
       "      <td>1031</td>\n",
       "      <td>$40.44</td>\n",
       "      <td>Swipe Transaction</td>\n",
       "      <td>2925</td>\n",
       "      <td>Allen</td>\n",
       "      <td>TX</td>\n",
       "      <td>75002.0</td>\n",
       "      <td>4900</td>\n",
       "      <td>NaN</td>\n",
       "    </tr>\n",
       "    <tr>\n",
       "      <th>13305913</th>\n",
       "      <td>23761873</td>\n",
       "      <td>2019-10-31 23:58:00</td>\n",
       "      <td>1986</td>\n",
       "      <td>5443</td>\n",
       "      <td>$4.00</td>\n",
       "      <td>Chip Transaction</td>\n",
       "      <td>46284</td>\n",
       "      <td>Daly City</td>\n",
       "      <td>CA</td>\n",
       "      <td>94014.0</td>\n",
       "      <td>5411</td>\n",
       "      <td>NaN</td>\n",
       "    </tr>\n",
       "    <tr>\n",
       "      <th>13305914</th>\n",
       "      <td>23761874</td>\n",
       "      <td>2019-10-31 23:59:00</td>\n",
       "      <td>489</td>\n",
       "      <td>5697</td>\n",
       "      <td>$12.88</td>\n",
       "      <td>Chip Transaction</td>\n",
       "      <td>24658</td>\n",
       "      <td>Greenbrier</td>\n",
       "      <td>TN</td>\n",
       "      <td>37073.0</td>\n",
       "      <td>5921</td>\n",
       "      <td>NaN</td>\n",
       "    </tr>\n",
       "  </tbody>\n",
       "</table>\n",
       "<p>13305915 rows × 12 columns</p>\n",
       "</div>"
      ],
      "text/plain": [
       "                id                 date  client_id  card_id   amount  \\\n",
       "0          7475327  2010-01-01 00:01:00       1556     2972  $-77.00   \n",
       "1          7475328  2010-01-01 00:02:00        561     4575   $14.57   \n",
       "2          7475329  2010-01-01 00:02:00       1129      102   $80.00   \n",
       "3          7475331  2010-01-01 00:05:00        430     2860  $200.00   \n",
       "4          7475332  2010-01-01 00:06:00        848     3915   $46.41   \n",
       "...            ...                  ...        ...      ...      ...   \n",
       "13305910  23761868  2019-10-31 23:56:00       1718     2379    $1.11   \n",
       "13305911  23761869  2019-10-31 23:56:00       1766     2066   $12.80   \n",
       "13305912  23761870  2019-10-31 23:57:00        199     1031   $40.44   \n",
       "13305913  23761873  2019-10-31 23:58:00       1986     5443    $4.00   \n",
       "13305914  23761874  2019-10-31 23:59:00        489     5697   $12.88   \n",
       "\n",
       "                    use_chip  merchant_id merchant_city merchant_state  \\\n",
       "0          Swipe Transaction        59935        Beulah             ND   \n",
       "1          Swipe Transaction        67570    Bettendorf             IA   \n",
       "2          Swipe Transaction        27092         Vista             CA   \n",
       "3          Swipe Transaction        27092   Crown Point             IN   \n",
       "4          Swipe Transaction        13051       Harwood             MD   \n",
       "...                      ...          ...           ...            ...   \n",
       "13305910    Chip Transaction        86438   West Covina             CA   \n",
       "13305911  Online Transaction        39261        ONLINE            NaN   \n",
       "13305912   Swipe Transaction         2925         Allen             TX   \n",
       "13305913    Chip Transaction        46284     Daly City             CA   \n",
       "13305914    Chip Transaction        24658    Greenbrier             TN   \n",
       "\n",
       "              zip   mcc errors  \n",
       "0         58523.0  5499    NaN  \n",
       "1         52722.0  5311    NaN  \n",
       "2         92084.0  4829    NaN  \n",
       "3         46307.0  4829    NaN  \n",
       "4         20776.0  5813    NaN  \n",
       "...           ...   ...    ...  \n",
       "13305910  91792.0  5499    NaN  \n",
       "13305911      NaN  5815    NaN  \n",
       "13305912  75002.0  4900    NaN  \n",
       "13305913  94014.0  5411    NaN  \n",
       "13305914  37073.0  5921    NaN  \n",
       "\n",
       "[13305915 rows x 12 columns]"
      ]
     },
     "execution_count": 3,
     "metadata": {},
     "output_type": "execute_result"
    }
   ],
   "source": [
    "transactions"
   ]
  },
  {
   "cell_type": "code",
   "execution_count": 4,
   "id": "24b722a1",
   "metadata": {},
   "outputs": [
    {
     "data": {
      "text/plain": [
       "Index(['id', 'date', 'client_id', 'card_id', 'amount', 'use_chip',\n",
       "       'merchant_id', 'merchant_city', 'merchant_state', 'zip', 'mcc',\n",
       "       'errors'],\n",
       "      dtype='object')"
      ]
     },
     "execution_count": 4,
     "metadata": {},
     "output_type": "execute_result"
    }
   ],
   "source": [
    "transactions.columns"
   ]
  },
  {
   "cell_type": "code",
   "execution_count": 5,
   "id": "590c25c1",
   "metadata": {},
   "outputs": [],
   "source": [
    "# Load fraud labels\n",
    "fraud_labels = pd.read_json('train_fraud_labels.json')\n",
    "\n",
    "# Load MCC codes\n",
    "import json\n",
    "with open('mcc_codes.json', 'r') as f:\n",
    "    mcc_codes = json.load(f)\n"
   ]
  },
  {
   "cell_type": "code",
   "execution_count": 6,
   "id": "44218991",
   "metadata": {},
   "outputs": [
    {
     "name": "stdout",
     "output_type": "stream",
     "text": [
      "         target\n",
      "10649266     No\n",
      "23410063     No\n",
      "9316588      No\n",
      "12478022     No\n",
      "9558530      No\n"
     ]
    }
   ],
   "source": [
    "print(fraud_labels.head())"
   ]
  },
  {
   "cell_type": "code",
   "execution_count": 7,
   "id": "580b9b8f",
   "metadata": {},
   "outputs": [
    {
     "name": "stdout",
     "output_type": "stream",
     "text": [
      "         id is_fraud\n",
      "0  10649266       No\n",
      "1  23410063       No\n",
      "2   9316588       No\n",
      "3  12478022       No\n",
      "4   9558530       No\n"
     ]
    }
   ],
   "source": [
    "# Reset the index to make it a column\n",
    "fraud_labels = fraud_labels.reset_index()\n",
    "\n",
    "# Rename the columns\n",
    "fraud_labels.columns = ['id', 'is_fraud']\n",
    "\n",
    "# Verify the result\n",
    "print(fraud_labels.head())\n"
   ]
  },
  {
   "cell_type": "code",
   "execution_count": 8,
   "id": "d7288d47",
   "metadata": {},
   "outputs": [
    {
     "name": "stdout",
     "output_type": "stream",
     "text": [
      "Index(['id', 'date', 'client_id', 'card_id', 'amount', 'use_chip',\n",
      "       'merchant_id', 'merchant_city', 'merchant_state', 'zip', 'mcc',\n",
      "       'errors'],\n",
      "      dtype='object')\n",
      "Index(['id', 'is_fraud'], dtype='object')\n"
     ]
    }
   ],
   "source": [
    "print(transactions.columns)\n",
    "print(fraud_labels.columns)\n"
   ]
  },
  {
   "cell_type": "code",
   "execution_count": 9,
   "id": "afb7bd09",
   "metadata": {},
   "outputs": [],
   "source": [
    "# Remove the '$' sign and convert to float\n",
    "transactions['amount'] = transactions['amount'].replace('[\\$,]', '', regex=True).astype(float)\n"
   ]
  },
  {
   "cell_type": "code",
   "execution_count": 10,
   "id": "58afff22",
   "metadata": {},
   "outputs": [
    {
     "name": "stdout",
     "output_type": "stream",
     "text": [
      "        id                 date  client_id  card_id  amount  \\\n",
      "0  7475327  2010-01-01 00:01:00       1556     2972  -77.00   \n",
      "1  7475328  2010-01-01 00:02:00        561     4575   14.57   \n",
      "2  7475329  2010-01-01 00:02:00       1129      102   80.00   \n",
      "3  7475331  2010-01-01 00:05:00        430     2860  200.00   \n",
      "4  7475332  2010-01-01 00:06:00        848     3915   46.41   \n",
      "\n",
      "            use_chip  merchant_id merchant_city merchant_state      zip   mcc  \\\n",
      "0  Swipe Transaction        59935        Beulah             ND  58523.0  5499   \n",
      "1  Swipe Transaction        67570    Bettendorf             IA  52722.0  5311   \n",
      "2  Swipe Transaction        27092         Vista             CA  92084.0  4829   \n",
      "3  Swipe Transaction        27092   Crown Point             IN  46307.0  4829   \n",
      "4  Swipe Transaction        13051       Harwood             MD  20776.0  5813   \n",
      "\n",
      "  errors is_fraud  \n",
      "0    NaN       No  \n",
      "1    NaN       No  \n",
      "2    NaN       No  \n",
      "3    NaN      NaN  \n",
      "4    NaN       No  \n"
     ]
    }
   ],
   "source": [
    "# Merge transactions with fraud labels\n",
    "transactions = transactions.merge(fraud_labels, on='id', how='left')\n",
    "\n",
    "\n",
    "print(transactions.head())\n"
   ]
  },
  {
   "cell_type": "code",
   "execution_count": 11,
   "id": "33f014b8",
   "metadata": {},
   "outputs": [
    {
     "data": {
      "text/plain": [
       "Index(['id', 'date', 'client_id', 'card_id', 'amount', 'use_chip',\n",
       "       'merchant_id', 'merchant_city', 'merchant_state', 'zip', 'mcc',\n",
       "       'errors', 'is_fraud'],\n",
       "      dtype='object')"
      ]
     },
     "execution_count": 11,
     "metadata": {},
     "output_type": "execute_result"
    }
   ],
   "source": [
    "transactions.columns"
   ]
  },
  {
   "cell_type": "code",
   "execution_count": 12,
   "id": "e88b1528",
   "metadata": {},
   "outputs": [
    {
     "data": {
      "text/plain": [
       "Index(['client_id', 'card_id', 'amount', 'use_chip', 'merchant_id',\n",
       "       'merchant_city', 'merchant_state', 'zip', 'mcc', 'errors', 'is_fraud'],\n",
       "      dtype='object')"
      ]
     },
     "execution_count": 12,
     "metadata": {},
     "output_type": "execute_result"
    }
   ],
   "source": [
    "# Drop unwanted columns\n",
    "transactions = transactions.drop(columns=['id', 'date'])\n",
    "\n",
    "transactions.columns\n",
    "\n",
    "# Verify the result"
   ]
  },
  {
   "cell_type": "code",
   "execution_count": 13,
   "id": "8322d8c5",
   "metadata": {},
   "outputs": [
    {
     "data": {
      "text/plain": [
       "0     No\n",
       "1     No\n",
       "2     No\n",
       "3    NaN\n",
       "4     No\n",
       "Name: is_fraud, dtype: object"
      ]
     },
     "execution_count": 13,
     "metadata": {},
     "output_type": "execute_result"
    }
   ],
   "source": [
    "# Replace 'yes' with 1 and 'no' with 0 in the 'is_fraud' column\n",
    "transactions['is_fraud'] = transactions['is_fraud'].replace({'yes': 1, 'no': 0})\n",
    "\n",
    "# Verify the changes\n",
    "transactions['is_fraud'].head()\n"
   ]
  },
  {
   "cell_type": "code",
   "execution_count": 14,
   "id": "0726b914",
   "metadata": {},
   "outputs": [
    {
     "data": {
      "image/png": "[encoded data removed]",
      "text/plain": [
       "<Figure size 640x480 with 1 Axes>"
      ]
     },
     "metadata": {},
     "output_type": "display_data"
    }
   ],
   "source": [
    "import matplotlib.pyplot as plt\n",
    "import seaborn as sns\n",
    "\n",
    "# Count the distribution of the target variable\n",
    "sns.countplot(data=transactions, x='is_fraud')\n",
    "plt.title('Distribution of Fraud vs Non-Fraud Transactions')\n",
    "plt.xlabel('Fraud (1) vs Non-Fraud (0)')\n",
    "plt.ylabel('Count')\n",
    "# Adjust y-axis to make the plot more readable\n",
    "plt.yscale('log')  # Log scale helps with large differences in counts\n",
    "plt.show()\n"
   ]
  },
  {
   "cell_type": "code",
   "execution_count": 15,
   "id": "e5e9c42e",
   "metadata": {},
   "outputs": [
    {
     "name": "stdout",
     "output_type": "stream",
     "text": [
      "is_fraud\n",
      "No     8901631\n",
      "Yes      13332\n",
      "Name: count, dtype: int64\n"
     ]
    }
   ],
   "source": [
    "# Count the number of fraud and non-fraud transactions\n",
    "fraud_counts = transactions['is_fraud'].value_counts()\n",
    "print(fraud_counts)\n"
   ]
  },
  {
   "cell_type": "code",
   "execution_count": 16,
   "id": "1de0a7e2",
   "metadata": {},
   "outputs": [
    {
     "data": {
      "text/html": [
       "<div>\n",
       "<style scoped>\n",
       "    .dataframe tbody tr th:only-of-type {\n",
       "        vertical-align: middle;\n",
       "    }\n",
       "\n",
       "    .dataframe tbody tr th {\n",
       "        vertical-align: top;\n",
       "    }\n",
       "\n",
       "    .dataframe thead th {\n",
       "        text-align: right;\n",
       "    }\n",
       "</style>\n",
       "<table border=\"1\" class=\"dataframe\">\n",
       "  <thead>\n",
       "    <tr style=\"text-align: right;\">\n",
       "      <th></th>\n",
       "      <th>client_id</th>\n",
       "      <th>card_id</th>\n",
       "      <th>amount</th>\n",
       "      <th>use_chip</th>\n",
       "      <th>merchant_id</th>\n",
       "      <th>merchant_city</th>\n",
       "      <th>merchant_state</th>\n",
       "      <th>zip</th>\n",
       "      <th>mcc</th>\n",
       "      <th>errors</th>\n",
       "      <th>is_fraud</th>\n",
       "    </tr>\n",
       "  </thead>\n",
       "  <tbody>\n",
       "    <tr>\n",
       "      <th>0</th>\n",
       "      <td>1556</td>\n",
       "      <td>2972</td>\n",
       "      <td>-77.00</td>\n",
       "      <td>Swipe Transaction</td>\n",
       "      <td>59935</td>\n",
       "      <td>Beulah</td>\n",
       "      <td>ND</td>\n",
       "      <td>58523.0</td>\n",
       "      <td>5499</td>\n",
       "      <td>NaN</td>\n",
       "      <td>No</td>\n",
       "    </tr>\n",
       "    <tr>\n",
       "      <th>1</th>\n",
       "      <td>561</td>\n",
       "      <td>4575</td>\n",
       "      <td>14.57</td>\n",
       "      <td>Swipe Transaction</td>\n",
       "      <td>67570</td>\n",
       "      <td>Bettendorf</td>\n",
       "      <td>IA</td>\n",
       "      <td>52722.0</td>\n",
       "      <td>5311</td>\n",
       "      <td>NaN</td>\n",
       "      <td>No</td>\n",
       "    </tr>\n",
       "    <tr>\n",
       "      <th>2</th>\n",
       "      <td>1129</td>\n",
       "      <td>102</td>\n",
       "      <td>80.00</td>\n",
       "      <td>Swipe Transaction</td>\n",
       "      <td>27092</td>\n",
       "      <td>Vista</td>\n",
       "      <td>CA</td>\n",
       "      <td>92084.0</td>\n",
       "      <td>4829</td>\n",
       "      <td>NaN</td>\n",
       "      <td>No</td>\n",
       "    </tr>\n",
       "    <tr>\n",
       "      <th>3</th>\n",
       "      <td>430</td>\n",
       "      <td>2860</td>\n",
       "      <td>200.00</td>\n",
       "      <td>Swipe Transaction</td>\n",
       "      <td>27092</td>\n",
       "      <td>Crown Point</td>\n",
       "      <td>IN</td>\n",
       "      <td>46307.0</td>\n",
       "      <td>4829</td>\n",
       "      <td>NaN</td>\n",
       "      <td>NaN</td>\n",
       "    </tr>\n",
       "    <tr>\n",
       "      <th>4</th>\n",
       "      <td>848</td>\n",
       "      <td>3915</td>\n",
       "      <td>46.41</td>\n",
       "      <td>Swipe Transaction</td>\n",
       "      <td>13051</td>\n",
       "      <td>Harwood</td>\n",
       "      <td>MD</td>\n",
       "      <td>20776.0</td>\n",
       "      <td>5813</td>\n",
       "      <td>NaN</td>\n",
       "      <td>No</td>\n",
       "    </tr>\n",
       "    <tr>\n",
       "      <th>...</th>\n",
       "      <td>...</td>\n",
       "      <td>...</td>\n",
       "      <td>...</td>\n",
       "      <td>...</td>\n",
       "      <td>...</td>\n",
       "      <td>...</td>\n",
       "      <td>...</td>\n",
       "      <td>...</td>\n",
       "      <td>...</td>\n",
       "      <td>...</td>\n",
       "      <td>...</td>\n",
       "    </tr>\n",
       "    <tr>\n",
       "      <th>13305910</th>\n",
       "      <td>1718</td>\n",
       "      <td>2379</td>\n",
       "      <td>1.11</td>\n",
       "      <td>Chip Transaction</td>\n",
       "      <td>86438</td>\n",
       "      <td>West Covina</td>\n",
       "      <td>CA</td>\n",
       "      <td>91792.0</td>\n",
       "      <td>5499</td>\n",
       "      <td>NaN</td>\n",
       "      <td>No</td>\n",
       "    </tr>\n",
       "    <tr>\n",
       "      <th>13305911</th>\n",
       "      <td>1766</td>\n",
       "      <td>2066</td>\n",
       "      <td>12.80</td>\n",
       "      <td>Online Transaction</td>\n",
       "      <td>39261</td>\n",
       "      <td>ONLINE</td>\n",
       "      <td>NaN</td>\n",
       "      <td>NaN</td>\n",
       "      <td>5815</td>\n",
       "      <td>NaN</td>\n",
       "      <td>No</td>\n",
       "    </tr>\n",
       "    <tr>\n",
       "      <th>13305912</th>\n",
       "      <td>199</td>\n",
       "      <td>1031</td>\n",
       "      <td>40.44</td>\n",
       "      <td>Swipe Transaction</td>\n",
       "      <td>2925</td>\n",
       "      <td>Allen</td>\n",
       "      <td>TX</td>\n",
       "      <td>75002.0</td>\n",
       "      <td>4900</td>\n",
       "      <td>NaN</td>\n",
       "      <td>No</td>\n",
       "    </tr>\n",
       "    <tr>\n",
       "      <th>13305913</th>\n",
       "      <td>1986</td>\n",
       "      <td>5443</td>\n",
       "      <td>4.00</td>\n",
       "      <td>Chip Transaction</td>\n",
       "      <td>46284</td>\n",
       "      <td>Daly City</td>\n",
       "      <td>CA</td>\n",
       "      <td>94014.0</td>\n",
       "      <td>5411</td>\n",
       "      <td>NaN</td>\n",
       "      <td>NaN</td>\n",
       "    </tr>\n",
       "    <tr>\n",
       "      <th>13305914</th>\n",
       "      <td>489</td>\n",
       "      <td>5697</td>\n",
       "      <td>12.88</td>\n",
       "      <td>Chip Transaction</td>\n",
       "      <td>24658</td>\n",
       "      <td>Greenbrier</td>\n",
       "      <td>TN</td>\n",
       "      <td>37073.0</td>\n",
       "      <td>5921</td>\n",
       "      <td>NaN</td>\n",
       "      <td>NaN</td>\n",
       "    </tr>\n",
       "  </tbody>\n",
       "</table>\n",
       "<p>13305915 rows × 11 columns</p>\n",
       "</div>"
      ],
      "text/plain": [
       "          client_id  card_id  amount            use_chip  merchant_id  \\\n",
       "0              1556     2972  -77.00   Swipe Transaction        59935   \n",
       "1               561     4575   14.57   Swipe Transaction        67570   \n",
       "2              1129      102   80.00   Swipe Transaction        27092   \n",
       "3               430     2860  200.00   Swipe Transaction        27092   \n",
       "4               848     3915   46.41   Swipe Transaction        13051   \n",
       "...             ...      ...     ...                 ...          ...   \n",
       "13305910       1718     2379    1.11    Chip Transaction        86438   \n",
       "13305911       1766     2066   12.80  Online Transaction        39261   \n",
       "13305912        199     1031   40.44   Swipe Transaction         2925   \n",
       "13305913       1986     5443    4.00    Chip Transaction        46284   \n",
       "13305914        489     5697   12.88    Chip Transaction        24658   \n",
       "\n",
       "         merchant_city merchant_state      zip   mcc errors is_fraud  \n",
       "0               Beulah             ND  58523.0  5499    NaN       No  \n",
       "1           Bettendorf             IA  52722.0  5311    NaN       No  \n",
       "2                Vista             CA  92084.0  4829    NaN       No  \n",
       "3          Crown Point             IN  46307.0  4829    NaN      NaN  \n",
       "4              Harwood             MD  20776.0  5813    NaN       No  \n",
       "...                ...            ...      ...   ...    ...      ...  \n",
       "13305910   West Covina             CA  91792.0  5499    NaN       No  \n",
       "13305911        ONLINE            NaN      NaN  5815    NaN       No  \n",
       "13305912         Allen             TX  75002.0  4900    NaN       No  \n",
       "13305913     Daly City             CA  94014.0  5411    NaN      NaN  \n",
       "13305914    Greenbrier             TN  37073.0  5921    NaN      NaN  \n",
       "\n",
       "[13305915 rows x 11 columns]"
      ]
     },
     "execution_count": 16,
     "metadata": {},
     "output_type": "execute_result"
    }
   ],
   "source": [
    "transactions"
   ]
  },
  {
   "cell_type": "code",
   "execution_count": 17,
   "id": "415daeba",
   "metadata": {},
   "outputs": [
    {
     "name": "stdout",
     "output_type": "stream",
     "text": [
      "0\n"
     ]
    }
   ],
   "source": [
    "# Drop rows where 'is_fraud' is NaN\n",
    "transactions = transactions.dropna(subset=['is_fraud'])\n",
    "\n",
    "# Verify the result\n",
    "print(transactions['is_fraud'].isna().sum())  # This should return 0, indicating no NaN values\n"
   ]
  },
  {
   "cell_type": "code",
   "execution_count": 18,
   "id": "e1168b2c",
   "metadata": {},
   "outputs": [
    {
     "data": {
      "text/html": [
       "<div>\n",
       "<style scoped>\n",
       "    .dataframe tbody tr th:only-of-type {\n",
       "        vertical-align: middle;\n",
       "    }\n",
       "\n",
       "    .dataframe tbody tr th {\n",
       "        vertical-align: top;\n",
       "    }\n",
       "\n",
       "    .dataframe thead th {\n",
       "        text-align: right;\n",
       "    }\n",
       "</style>\n",
       "<table border=\"1\" class=\"dataframe\">\n",
       "  <thead>\n",
       "    <tr style=\"text-align: right;\">\n",
       "      <th></th>\n",
       "      <th>client_id</th>\n",
       "      <th>card_id</th>\n",
       "      <th>amount</th>\n",
       "      <th>use_chip</th>\n",
       "      <th>merchant_id</th>\n",
       "      <th>merchant_city</th>\n",
       "      <th>merchant_state</th>\n",
       "      <th>zip</th>\n",
       "      <th>mcc</th>\n",
       "      <th>errors</th>\n",
       "      <th>is_fraud</th>\n",
       "    </tr>\n",
       "  </thead>\n",
       "  <tbody>\n",
       "    <tr>\n",
       "      <th>0</th>\n",
       "      <td>1556</td>\n",
       "      <td>2972</td>\n",
       "      <td>-77.00</td>\n",
       "      <td>Swipe Transaction</td>\n",
       "      <td>59935</td>\n",
       "      <td>Beulah</td>\n",
       "      <td>ND</td>\n",
       "      <td>58523.0</td>\n",
       "      <td>5499</td>\n",
       "      <td>NaN</td>\n",
       "      <td>No</td>\n",
       "    </tr>\n",
       "    <tr>\n",
       "      <th>1</th>\n",
       "      <td>561</td>\n",
       "      <td>4575</td>\n",
       "      <td>14.57</td>\n",
       "      <td>Swipe Transaction</td>\n",
       "      <td>67570</td>\n",
       "      <td>Bettendorf</td>\n",
       "      <td>IA</td>\n",
       "      <td>52722.0</td>\n",
       "      <td>5311</td>\n",
       "      <td>NaN</td>\n",
       "      <td>No</td>\n",
       "    </tr>\n",
       "    <tr>\n",
       "      <th>2</th>\n",
       "      <td>1129</td>\n",
       "      <td>102</td>\n",
       "      <td>80.00</td>\n",
       "      <td>Swipe Transaction</td>\n",
       "      <td>27092</td>\n",
       "      <td>Vista</td>\n",
       "      <td>CA</td>\n",
       "      <td>92084.0</td>\n",
       "      <td>4829</td>\n",
       "      <td>NaN</td>\n",
       "      <td>No</td>\n",
       "    </tr>\n",
       "    <tr>\n",
       "      <th>4</th>\n",
       "      <td>848</td>\n",
       "      <td>3915</td>\n",
       "      <td>46.41</td>\n",
       "      <td>Swipe Transaction</td>\n",
       "      <td>13051</td>\n",
       "      <td>Harwood</td>\n",
       "      <td>MD</td>\n",
       "      <td>20776.0</td>\n",
       "      <td>5813</td>\n",
       "      <td>NaN</td>\n",
       "      <td>No</td>\n",
       "    </tr>\n",
       "    <tr>\n",
       "      <th>5</th>\n",
       "      <td>1807</td>\n",
       "      <td>165</td>\n",
       "      <td>4.81</td>\n",
       "      <td>Swipe Transaction</td>\n",
       "      <td>20519</td>\n",
       "      <td>Bronx</td>\n",
       "      <td>NY</td>\n",
       "      <td>10464.0</td>\n",
       "      <td>5942</td>\n",
       "      <td>NaN</td>\n",
       "      <td>No</td>\n",
       "    </tr>\n",
       "    <tr>\n",
       "      <th>...</th>\n",
       "      <td>...</td>\n",
       "      <td>...</td>\n",
       "      <td>...</td>\n",
       "      <td>...</td>\n",
       "      <td>...</td>\n",
       "      <td>...</td>\n",
       "      <td>...</td>\n",
       "      <td>...</td>\n",
       "      <td>...</td>\n",
       "      <td>...</td>\n",
       "      <td>...</td>\n",
       "    </tr>\n",
       "    <tr>\n",
       "      <th>13305905</th>\n",
       "      <td>672</td>\n",
       "      <td>5001</td>\n",
       "      <td>12.93</td>\n",
       "      <td>Chip Transaction</td>\n",
       "      <td>47508</td>\n",
       "      <td>Cosby</td>\n",
       "      <td>TN</td>\n",
       "      <td>37722.0</td>\n",
       "      <td>7230</td>\n",
       "      <td>NaN</td>\n",
       "      <td>No</td>\n",
       "    </tr>\n",
       "    <tr>\n",
       "      <th>13305906</th>\n",
       "      <td>1384</td>\n",
       "      <td>3723</td>\n",
       "      <td>67.01</td>\n",
       "      <td>Chip Transaction</td>\n",
       "      <td>58136</td>\n",
       "      <td>Williamson</td>\n",
       "      <td>GA</td>\n",
       "      <td>30292.0</td>\n",
       "      <td>5812</td>\n",
       "      <td>NaN</td>\n",
       "      <td>No</td>\n",
       "    </tr>\n",
       "    <tr>\n",
       "      <th>13305910</th>\n",
       "      <td>1718</td>\n",
       "      <td>2379</td>\n",
       "      <td>1.11</td>\n",
       "      <td>Chip Transaction</td>\n",
       "      <td>86438</td>\n",
       "      <td>West Covina</td>\n",
       "      <td>CA</td>\n",
       "      <td>91792.0</td>\n",
       "      <td>5499</td>\n",
       "      <td>NaN</td>\n",
       "      <td>No</td>\n",
       "    </tr>\n",
       "    <tr>\n",
       "      <th>13305911</th>\n",
       "      <td>1766</td>\n",
       "      <td>2066</td>\n",
       "      <td>12.80</td>\n",
       "      <td>Online Transaction</td>\n",
       "      <td>39261</td>\n",
       "      <td>ONLINE</td>\n",
       "      <td>NaN</td>\n",
       "      <td>NaN</td>\n",
       "      <td>5815</td>\n",
       "      <td>NaN</td>\n",
       "      <td>No</td>\n",
       "    </tr>\n",
       "    <tr>\n",
       "      <th>13305912</th>\n",
       "      <td>199</td>\n",
       "      <td>1031</td>\n",
       "      <td>40.44</td>\n",
       "      <td>Swipe Transaction</td>\n",
       "      <td>2925</td>\n",
       "      <td>Allen</td>\n",
       "      <td>TX</td>\n",
       "      <td>75002.0</td>\n",
       "      <td>4900</td>\n",
       "      <td>NaN</td>\n",
       "      <td>No</td>\n",
       "    </tr>\n",
       "  </tbody>\n",
       "</table>\n",
       "<p>8914963 rows × 11 columns</p>\n",
       "</div>"
      ],
      "text/plain": [
       "          client_id  card_id  amount            use_chip  merchant_id  \\\n",
       "0              1556     2972  -77.00   Swipe Transaction        59935   \n",
       "1               561     4575   14.57   Swipe Transaction        67570   \n",
       "2              1129      102   80.00   Swipe Transaction        27092   \n",
       "4               848     3915   46.41   Swipe Transaction        13051   \n",
       "5              1807      165    4.81   Swipe Transaction        20519   \n",
       "...             ...      ...     ...                 ...          ...   \n",
       "13305905        672     5001   12.93    Chip Transaction        47508   \n",
       "13305906       1384     3723   67.01    Chip Transaction        58136   \n",
       "13305910       1718     2379    1.11    Chip Transaction        86438   \n",
       "13305911       1766     2066   12.80  Online Transaction        39261   \n",
       "13305912        199     1031   40.44   Swipe Transaction         2925   \n",
       "\n",
       "         merchant_city merchant_state      zip   mcc errors is_fraud  \n",
       "0               Beulah             ND  58523.0  5499    NaN       No  \n",
       "1           Bettendorf             IA  52722.0  5311    NaN       No  \n",
       "2                Vista             CA  92084.0  4829    NaN       No  \n",
       "4              Harwood             MD  20776.0  5813    NaN       No  \n",
       "5                Bronx             NY  10464.0  5942    NaN       No  \n",
       "...                ...            ...      ...   ...    ...      ...  \n",
       "13305905         Cosby             TN  37722.0  7230    NaN       No  \n",
       "13305906    Williamson             GA  30292.0  5812    NaN       No  \n",
       "13305910   West Covina             CA  91792.0  5499    NaN       No  \n",
       "13305911        ONLINE            NaN      NaN  5815    NaN       No  \n",
       "13305912         Allen             TX  75002.0  4900    NaN       No  \n",
       "\n",
       "[8914963 rows x 11 columns]"
      ]
     },
     "execution_count": 18,
     "metadata": {},
     "output_type": "execute_result"
    }
   ],
   "source": [
    "transactions"
   ]
  },
  {
   "cell_type": "code",
   "execution_count": 19,
   "id": "78165f92",
   "metadata": {},
   "outputs": [
    {
     "data": {
      "text/plain": [
       "Index(['client_id', 'card_id', 'amount', 'use_chip', 'merchant_id',\n",
       "       'merchant_city', 'merchant_state', 'zip', 'mcc', 'errors', 'is_fraud'],\n",
       "      dtype='object')"
      ]
     },
     "execution_count": 19,
     "metadata": {},
     "output_type": "execute_result"
    }
   ],
   "source": [
    "transactions.columns\n"
   ]
  },
  {
   "cell_type": "code",
   "execution_count": 20,
   "id": "be6e3bab",
   "metadata": {},
   "outputs": [
    {
     "name": "stderr",
     "output_type": "stream",
     "text": [
      "/var/folders/c2/h2s1ssjd2y994rq1jblvb0_c0000gn/T/ipykernel_10963/4062495942.py:9: SettingWithCopyWarning: \n",
      "A value is trying to be set on a copy of a slice from a DataFrame.\n",
      "Try using .loc[row_indexer,col_indexer] = value instead\n",
      "\n",
      "See the caveats in the documentation: https://pandas.pydata.org/pandas-docs/stable/user_guide/indexing.html#returning-a-view-versus-a-copy\n",
      "  transactions[col] = label_encoder.fit_transform(transactions[col])\n",
      "/var/folders/c2/h2s1ssjd2y994rq1jblvb0_c0000gn/T/ipykernel_10963/4062495942.py:9: SettingWithCopyWarning: \n",
      "A value is trying to be set on a copy of a slice from a DataFrame.\n",
      "Try using .loc[row_indexer,col_indexer] = value instead\n",
      "\n",
      "See the caveats in the documentation: https://pandas.pydata.org/pandas-docs/stable/user_guide/indexing.html#returning-a-view-versus-a-copy\n",
      "  transactions[col] = label_encoder.fit_transform(transactions[col])\n",
      "/var/folders/c2/h2s1ssjd2y994rq1jblvb0_c0000gn/T/ipykernel_10963/4062495942.py:9: SettingWithCopyWarning: \n",
      "A value is trying to be set on a copy of a slice from a DataFrame.\n",
      "Try using .loc[row_indexer,col_indexer] = value instead\n",
      "\n",
      "See the caveats in the documentation: https://pandas.pydata.org/pandas-docs/stable/user_guide/indexing.html#returning-a-view-versus-a-copy\n",
      "  transactions[col] = label_encoder.fit_transform(transactions[col])\n",
      "/var/folders/c2/h2s1ssjd2y994rq1jblvb0_c0000gn/T/ipykernel_10963/4062495942.py:9: SettingWithCopyWarning: \n",
      "A value is trying to be set on a copy of a slice from a DataFrame.\n",
      "Try using .loc[row_indexer,col_indexer] = value instead\n",
      "\n",
      "See the caveats in the documentation: https://pandas.pydata.org/pandas-docs/stable/user_guide/indexing.html#returning-a-view-versus-a-copy\n",
      "  transactions[col] = label_encoder.fit_transform(transactions[col])\n"
     ]
    }
   ],
   "source": [
    "from sklearn.preprocessing import LabelEncoder\n",
    "\n",
    "# Initialize label encoder\n",
    "label_encoder = LabelEncoder()\n",
    "\n",
    "# Apply label encoding to categorical columns\n",
    "categorical_columns = ['use_chip', 'merchant_city', 'merchant_state', 'errors']\n",
    "for col in categorical_columns:\n",
    "    transactions[col] = label_encoder.fit_transform(transactions[col])\n",
    "\n",
    "# Now, the 'use_chip' and other columns should be encoded as numeric values\n"
   ]
  },
  {
   "cell_type": "code",
   "execution_count": 21,
   "id": "8017082e",
   "metadata": {},
   "outputs": [
    {
     "name": "stdout",
     "output_type": "stream",
     "text": [
      "Index(['client_id', 'card_id', 'amount', 'use_chip', 'merchant_id',\n",
      "       'merchant_city', 'merchant_state', 'zip', 'mcc', 'errors'],\n",
      "      dtype='object')\n",
      "Index(['is_fraud'], dtype='object')\n"
     ]
    }
   ],
   "source": [
    "# Separate columns based on data types\n",
    "numeric_columns = transactions.select_dtypes(include=['int64', 'float64']).columns\n",
    "categorical_columns = transactions.select_dtypes(include=['object']).columns\n",
    "\n",
    "# Check the columns\n",
    "print(numeric_columns)\n",
    "print(categorical_columns)\n"
   ]
  },
  {
   "cell_type": "code",
   "execution_count": 22,
   "id": "607293f6",
   "metadata": {},
   "outputs": [
    {
     "name": "stderr",
     "output_type": "stream",
     "text": [
      "/var/folders/c2/h2s1ssjd2y994rq1jblvb0_c0000gn/T/ipykernel_10963/4205786619.py:5: SettingWithCopyWarning: \n",
      "A value is trying to be set on a copy of a slice from a DataFrame.\n",
      "Try using .loc[row_indexer,col_indexer] = value instead\n",
      "\n",
      "See the caveats in the documentation: https://pandas.pydata.org/pandas-docs/stable/user_guide/indexing.html#returning-a-view-versus-a-copy\n",
      "  transactions[numeric_columns] = numeric_imputer.fit_transform(transactions[numeric_columns])\n"
     ]
    }
   ],
   "source": [
    "from sklearn.impute import SimpleImputer\n",
    "\n",
    "# Impute missing values in numeric columns using the mean\n",
    "numeric_imputer = SimpleImputer(strategy='mean')\n",
    "transactions[numeric_columns] = numeric_imputer.fit_transform(transactions[numeric_columns])\n"
   ]
  },
  {
   "cell_type": "code",
   "execution_count": 23,
   "id": "db6aad5f",
   "metadata": {},
   "outputs": [
    {
     "name": "stderr",
     "output_type": "stream",
     "text": [
      "/var/folders/c2/h2s1ssjd2y994rq1jblvb0_c0000gn/T/ipykernel_10963/315866799.py:3: SettingWithCopyWarning: \n",
      "A value is trying to be set on a copy of a slice from a DataFrame.\n",
      "Try using .loc[row_indexer,col_indexer] = value instead\n",
      "\n",
      "See the caveats in the documentation: https://pandas.pydata.org/pandas-docs/stable/user_guide/indexing.html#returning-a-view-versus-a-copy\n",
      "  transactions[categorical_columns] = categorical_imputer.fit_transform(transactions[categorical_columns])\n"
     ]
    }
   ],
   "source": [
    "# Impute missing values in categorical columns using the mode\n",
    "categorical_imputer = SimpleImputer(strategy='most_frequent')\n",
    "transactions[categorical_columns] = categorical_imputer.fit_transform(transactions[categorical_columns])\n"
   ]
  },
  {
   "cell_type": "code",
   "execution_count": 24,
   "id": "fdbe85c3",
   "metadata": {},
   "outputs": [],
   "source": [
    "# Apply one-hot encoding to categorical columns\n",
    "transactions = pd.get_dummies(transactions, columns=categorical_columns, drop_first=True)\n"
   ]
  },
  {
   "cell_type": "code",
   "execution_count": 25,
   "id": "bd9639cd",
   "metadata": {},
   "outputs": [
    {
     "name": "stdout",
     "output_type": "stream",
     "text": [
      "client_id         0\n",
      "card_id           0\n",
      "amount            0\n",
      "use_chip          0\n",
      "merchant_id       0\n",
      "merchant_city     0\n",
      "merchant_state    0\n",
      "zip               0\n",
      "mcc               0\n",
      "errors            0\n",
      "is_fraud_Yes      0\n",
      "dtype: int64\n",
      "client_id         float64\n",
      "card_id           float64\n",
      "amount            float64\n",
      "use_chip          float64\n",
      "merchant_id       float64\n",
      "merchant_city     float64\n",
      "merchant_state    float64\n",
      "zip               float64\n",
      "mcc               float64\n",
      "errors            float64\n",
      "is_fraud_Yes         bool\n",
      "dtype: object\n"
     ]
    }
   ],
   "source": [
    "# Check the final dataset\n",
    "print(transactions.isnull().sum())  # Ensure no missing values\n",
    "print(transactions.dtypes)  # Ensure all columns are numeric\n"
   ]
  },
  {
   "cell_type": "code",
   "execution_count": 26,
   "id": "c7ccb5d4",
   "metadata": {},
   "outputs": [],
   "source": [
    "# Separate features (X) and target (y)\n",
    "X = transactions.drop(columns=['is_fraud_Yes'])  # Drop the 'is_fraud_Yes' column, which is now the target\n",
    "y = transactions['is_fraud_Yes']  # The target is now in 'is_fraud_Yes'\n",
    "\n",
    "\n",
    "# Apply PCA to reduce dimensionality (e.g., to 10 components)\n",
    "from sklearn.decomposition import PCA\n",
    "\n",
    "pca = PCA(n_components=10)\n",
    "X_pca = pca.fit_transform(X)\n",
    "\n",
    "# Convert back to a DataFrame\n",
    "transactions_pca = pd.DataFrame(X_pca, columns=[f\"PC{i+1}\" for i in range(X_pca.shape[1])])\n",
    "transactions_pca['is_fraud'] = y\n"
   ]
  },
  {
   "cell_type": "code",
   "execution_count": 27,
   "id": "1265515e",
   "metadata": {},
   "outputs": [],
   "source": [
    "from sklearn.ensemble import RandomForestClassifier\n",
    "from sklearn.model_selection import train_test_split\n",
    "from sklearn.metrics import classification_report\n",
    "from sklearn.model_selection import GridSearchCV\n",
    "\n",
    "# 1. Separate features (X) and target (y)\n",
    "X = transactions.drop(columns=['is_fraud_Yes'])  # Remove the target column\n",
    "y = transactions['is_fraud_Yes']"
   ]
  },
  {
   "cell_type": "code",
   "execution_count": 28,
   "id": "4e1d9df8",
   "metadata": {},
   "outputs": [],
   "source": [
    "# 2. Split data into training and testing sets\n",
    "X_train, X_test, y_train, y_test = train_test_split(X, y, test_size=0.2, random_state=330)\n"
   ]
  },
  {
   "cell_type": "code",
   "execution_count": null,
   "id": "c1d124da",
   "metadata": {},
   "outputs": [],
   "source": [
    "rf_model = RandomForestClassifier(n_estimators=100, max_depth=10, n_jobs=-1, random_state=330, class_weight='balanced')\n",
    "rf_model.fit(X_train, y_train)\n"
   ]
  },
  {
   "cell_type": "code",
   "execution_count": null,
   "id": "0d15e27b",
   "metadata": {},
   "outputs": [],
   "source": [
    "# 4. Make predictions\n",
    "y_pred = rf_model.predict(X_test)"
   ]
  },
  {
   "cell_type": "code",
   "execution_count": null,
   "id": "003c16e0",
   "metadata": {},
   "outputs": [],
   "source": [
    "# 5. Evaluate model performance\n",
    "print(classification_report(y_test, y_pred))\n"
   ]
  },
  {
   "cell_type": "code",
   "execution_count": null,
   "id": "6517661d",
   "metadata": {},
   "outputs": [],
   "source": [
    "print(len(rf_model.estimators_))  # Should print a number > 0\n"
   ]
  },
  {
   "cell_type": "code",
   "execution_count": null,
   "id": "2df53628",
   "metadata": {},
   "outputs": [],
   "source": [
    "transactions.columns"
   ]
  },
  {
   "cell_type": "code",
   "execution_count": null,
   "id": "bf55c8c6",
   "metadata": {},
   "outputs": [],
   "source": [
    "fraud_cases = transactions[transactions['is_fraud_Yes'] == 1]\n"
   ]
  },
  {
   "cell_type": "code",
   "execution_count": null,
   "id": "6d5720a9",
   "metadata": {},
   "outputs": [],
   "source": [
    "legit_cases = transactions[transactions['is_fraud_Yes'] == 0].sample(\n",
    "    n=len(fraud_cases) * 20,  # Ratio of 20x\n",
    "    random_state=42\n",
    ")\n"
   ]
  },
  {
   "cell_type": "code",
   "execution_count": null,
   "id": "7db491d7",
   "metadata": {},
   "outputs": [],
   "source": [
    "fraud_cases"
   ]
  },
  {
   "cell_type": "code",
   "execution_count": null,
   "id": "7fa3e6af",
   "metadata": {},
   "outputs": [],
   "source": [
    "legit_cases"
   ]
  },
  {
   "cell_type": "code",
   "execution_count": null,
   "id": "e6dd2376",
   "metadata": {},
   "outputs": [],
   "source": [
    "balanced_data = pd.concat([fraud_cases, legit_cases], axis=0).sample(frac=1, random_state=330)\n"
   ]
  },
  {
   "cell_type": "code",
   "execution_count": null,
   "id": "3177399b",
   "metadata": {},
   "outputs": [],
   "source": [
    "from sklearn.model_selection import train_test_split\n",
    "\n",
    "X_balanced = balanced_data.drop(columns=['is_fraud_Yes'])\n",
    "y_balanced = balanced_data['is_fraud_Yes']\n",
    "\n",
    "X_train_bal, X_test_bal, y_train_bal, y_test_bal = train_test_split(\n",
    "    X_balanced, y_balanced, test_size=0.2, random_state=330\n",
    ")\n"
   ]
  },
  {
   "cell_type": "code",
   "execution_count": null,
   "id": "600cdbb0",
   "metadata": {},
   "outputs": [],
   "source": [
    "from imblearn.over_sampling import SMOTE\n",
    "smote = SMOTE(sampling_strategy='auto', random_state=330)\n",
    "\n",
    "X_resampled_bal, y_resampled_bal = smote.fit_resample(X_train_bal, y_train_bal)\n",
    "\n",
    "from sklearn.ensemble import RandomForestClassifier\n",
    "\n",
    "rf_model = RandomForestClassifier(n_estimators=50, random_state=42, n_jobs=-1, class_weight= 'balanced')\n",
    "rf_model.fit(X_resampled_bal, y_resampled_bal)\n"
   ]
  },
  {
   "cell_type": "code",
   "execution_count": null,
   "id": "4e8cf06c",
   "metadata": {},
   "outputs": [],
   "source": [
    "from sklearn.metrics import classification_report\n",
    "\n",
    "y_pred_bal = rf_model.predict(X_test_bal)\n",
    "print(classification_report(y_test_bal, y_pred_bal))\n"
   ]
  },
  {
   "cell_type": "code",
   "execution_count": null,
   "id": "dbae5d8a",
   "metadata": {},
   "outputs": [],
   "source": [
    "from sklearn.metrics import roc_curve, auc\n",
    "fpr, tpr, thresholds = roc_curve(y_test, rf_model.predict_proba(X_test)[:, 1])\n",
    "roc_auc = auc(fpr, tpr)\n",
    "print(f\"AUC: {roc_auc}\")\n"
   ]
  },
  {
   "cell_type": "code",
   "execution_count": null,
   "id": "b1824104",
   "metadata": {},
   "outputs": [],
   "source": [
    "import matplotlib.pyplot as plt\n",
    "from sklearn.metrics import roc_curve, auc\n",
    "\n",
    "# Calculate the ROC curve\n",
    "fpr, tpr, thresholds = roc_curve(y_test, rf_model.predict_proba(X_test)[:, 1])\n",
    "\n",
    "# Calculate AUC\n",
    "roc_auc = auc(fpr, tpr)\n",
    "print(f\"AUC: {roc_auc}\")\n",
    "\n",
    "# Plot ROC curve\n",
    "plt.figure(figsize=(8, 6))\n",
    "plt.plot(fpr, tpr, color='darkorange', lw=2, label='ROC curve (AUC = %0.2f)' % roc_auc)\n",
    "plt.plot([0, 1], [0, 1], color='navy', lw=2, linestyle='--')  # Random classifier (AUC = 0.5)\n",
    "plt.xlim([0.0, 1.0])\n",
    "plt.ylim([0.0, 1.05])\n",
    "plt.xlabel('False Positive Rate')\n",
    "plt.ylabel('True Positive Rate (Recall)')\n",
    "plt.title('Receiver Operating Characteristic (ROC) Curve')\n",
    "plt.legend(loc=\"lower right\")\n",
    "plt.show()\n"
   ]
  },
  {
   "cell_type": "code",
   "execution_count": null,
   "id": "4f3558a4",
   "metadata": {},
   "outputs": [],
   "source": [
    "feature_importances = pd.DataFrame(rf_model.feature_importances_,\n",
    "                                   index=X_train.columns,\n",
    "                                   columns=['importance']).sort_values('importance', ascending=False)\n",
    "print(feature_importances.head(10))\n"
   ]
  },
  {
   "cell_type": "code",
   "execution_count": null,
   "id": "be9d46a4",
   "metadata": {},
   "outputs": [],
   "source": [
    "from imblearn.over_sampling import SMOTE\n",
    "\n",
    "smote = SMOTE(random_state=330)\n",
    "X_resampled, y_resampled = smote.fit_resample(X_train, y_train)\n"
   ]
  },
  {
   "cell_type": "code",
   "execution_count": null,
   "id": "799743f4",
   "metadata": {},
   "outputs": [],
   "source": [
    "import matplotlib.pyplot as plt\n",
    "import numpy as np\n",
    "\n",
    "# AUC scores from cross-validation\n",
    "auc_scores = [0.98011065, 0.98029356, 0.98027004, 0.97999971, 0.98001727]\n",
    "\n",
    "# Calculate the mean AUC\n",
    "mean_auc = np.mean(auc_scores)\n",
    "\n",
    "# Plotting the AUC scores for each fold\n",
    "plt.figure(figsize=(8, 6))\n",
    "plt.plot(range(1, len(auc_scores) + 1), auc_scores, marker='o', linestyle='-', color='b', label='AUC per fold')\n",
    "\n",
    "# Adding mean AUC line\n",
    "plt.axhline(mean_auc, color='r', linestyle='--', label=f'Mean AUC: {mean_auc:.4f}')\n",
    "\n",
    "# Adding labels and title\n",
    "plt.title('Cross-Validation AUC Scores')\n",
    "plt.xlabel('Fold')\n",
    "plt.ylabel('AUC')\n",
    "plt.legend(loc='lower right')\n",
    "plt.grid(True)\n",
    "\n",
    "# Display the plot\n",
    "plt.show()\n"
   ]
  },
  {
   "cell_type": "code",
   "execution_count": null,
   "id": "d3239333-c45a-433a-9a48-b830e3a3abc7",
   "metadata": {},
   "outputs": [],
   "source": []
  },
  {
   "cell_type": "code",
   "execution_count": null,
   "id": "54da72a6-1bad-4443-bd77-43c4b6e971dd",
   "metadata": {},
   "outputs": [],
   "source": []
  },
  {
   "cell_type": "code",
   "execution_count": null,
   "id": "77144a40-4c77-4de8-8a75-a430b468a593",
   "metadata": {},
   "outputs": [],
   "source": []
  },
  {
   "cell_type": "code",
   "execution_count": null,
   "id": "5faad134-8fa3-40ac-b781-3173e5529eec",
   "metadata": {},
   "outputs": [],
   "source": []
  },
  {
   "cell_type": "code",
   "execution_count": null,
   "id": "49e4326b-f540-4877-903b-00d474053e2c",
   "metadata": {},
   "outputs": [],
   "source": []
  }
 ],
 "metadata": {
  "kernelspec": {
   "display_name": "Python 3 (ipykernel)",
   "language": "python",
   "name": "python3"
  },
  "language_info": {
   "codemirror_mode": {
    "name": "ipython",
    "version": 3
   },
   "file_extension": ".py",
   "mimetype": "text/x-python",
   "name": "python",
   "nbconvert_exporter": "python",
   "pygments_lexer": "ipython3",
   "version": "3.11.9"
  }
 },
 "nbformat": 4,
 "nbformat_minor": 5
}
