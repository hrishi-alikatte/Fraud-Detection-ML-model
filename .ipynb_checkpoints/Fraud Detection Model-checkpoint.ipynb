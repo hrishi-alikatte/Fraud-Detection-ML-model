{
 "cells": [
  {
   "cell_type": "code",
   "execution_count": 1,
   "id": "5c60d514-71e7-4113-95ee-46714c405da6",
   "metadata": {},
   "outputs": [],
   "source": [
    "import pandas as pd "
   ]
  },
  {
   "cell_type": "code",
   "execution_count": 2,
   "id": "70faa847-8b1c-4e2e-8138-3e656ab6fc44",
   "metadata": {},
   "outputs": [],
   "source": [
    "balanced_data = pd.read_csv(\"Balanced_data.csv\")"
   ]
  },
  {
   "cell_type": "code",
   "execution_count": 3,
   "id": "340fa55d-1429-473b-befb-2275b8a708e1",
   "metadata": {},
   "outputs": [
    {
     "data": {
      "text/html": [
       "<div>\n",
       "<style scoped>\n",
       "    .dataframe tbody tr th:only-of-type {\n",
       "        vertical-align: middle;\n",
       "    }\n",
       "\n",
       "    .dataframe tbody tr th {\n",
       "        vertical-align: top;\n",
       "    }\n",
       "\n",
       "    .dataframe thead th {\n",
       "        text-align: right;\n",
       "    }\n",
       "</style>\n",
       "<table border=\"1\" class=\"dataframe\">\n",
       "  <thead>\n",
       "    <tr style=\"text-align: right;\">\n",
       "      <th></th>\n",
       "      <th>client_id</th>\n",
       "      <th>card_id</th>\n",
       "      <th>amount</th>\n",
       "      <th>use_chip</th>\n",
       "      <th>merchant_id</th>\n",
       "      <th>merchant_city</th>\n",
       "      <th>merchant_state</th>\n",
       "      <th>zip</th>\n",
       "      <th>mcc</th>\n",
       "      <th>errors</th>\n",
       "      <th>is_fraud_Yes</th>\n",
       "    </tr>\n",
       "  </thead>\n",
       "  <tbody>\n",
       "    <tr>\n",
       "      <th>0</th>\n",
       "      <td>1168.0</td>\n",
       "      <td>3239.0</td>\n",
       "      <td>-68.00</td>\n",
       "      <td>2.0</td>\n",
       "      <td>59935.0</td>\n",
       "      <td>5844.0</td>\n",
       "      <td>122.0</td>\n",
       "      <td>89121.000000</td>\n",
       "      <td>5499.0</td>\n",
       "      <td>22.0</td>\n",
       "      <td>False</td>\n",
       "    </tr>\n",
       "    <tr>\n",
       "      <th>1</th>\n",
       "      <td>1347.0</td>\n",
       "      <td>5678.0</td>\n",
       "      <td>770.92</td>\n",
       "      <td>0.0</td>\n",
       "      <td>68977.0</td>\n",
       "      <td>11916.0</td>\n",
       "      <td>116.0</td>\n",
       "      <td>27896.000000</td>\n",
       "      <td>3174.0</td>\n",
       "      <td>22.0</td>\n",
       "      <td>False</td>\n",
       "    </tr>\n",
       "    <tr>\n",
       "      <th>2</th>\n",
       "      <td>37.0</td>\n",
       "      <td>265.0</td>\n",
       "      <td>105.22</td>\n",
       "      <td>0.0</td>\n",
       "      <td>91050.0</td>\n",
       "      <td>4506.0</td>\n",
       "      <td>123.0</td>\n",
       "      <td>13074.000000</td>\n",
       "      <td>4900.0</td>\n",
       "      <td>22.0</td>\n",
       "      <td>False</td>\n",
       "    </tr>\n",
       "    <tr>\n",
       "      <th>3</th>\n",
       "      <td>1260.0</td>\n",
       "      <td>6081.0</td>\n",
       "      <td>81.32</td>\n",
       "      <td>1.0</td>\n",
       "      <td>73186.0</td>\n",
       "      <td>7822.0</td>\n",
       "      <td>199.0</td>\n",
       "      <td>51328.550519</td>\n",
       "      <td>4814.0</td>\n",
       "      <td>22.0</td>\n",
       "      <td>False</td>\n",
       "    </tr>\n",
       "    <tr>\n",
       "      <th>4</th>\n",
       "      <td>898.0</td>\n",
       "      <td>3356.0</td>\n",
       "      <td>2.65</td>\n",
       "      <td>2.0</td>\n",
       "      <td>25717.0</td>\n",
       "      <td>134.0</td>\n",
       "      <td>134.0</td>\n",
       "      <td>18103.000000</td>\n",
       "      <td>5812.0</td>\n",
       "      <td>22.0</td>\n",
       "      <td>False</td>\n",
       "    </tr>\n",
       "    <tr>\n",
       "      <th>...</th>\n",
       "      <td>...</td>\n",
       "      <td>...</td>\n",
       "      <td>...</td>\n",
       "      <td>...</td>\n",
       "      <td>...</td>\n",
       "      <td>...</td>\n",
       "      <td>...</td>\n",
       "      <td>...</td>\n",
       "      <td>...</td>\n",
       "      <td>...</td>\n",
       "      <td>...</td>\n",
       "    </tr>\n",
       "    <tr>\n",
       "      <th>279967</th>\n",
       "      <td>1242.0</td>\n",
       "      <td>5102.0</td>\n",
       "      <td>10.19</td>\n",
       "      <td>2.0</td>\n",
       "      <td>28032.0</td>\n",
       "      <td>1894.0</td>\n",
       "      <td>69.0</td>\n",
       "      <td>60620.000000</td>\n",
       "      <td>5921.0</td>\n",
       "      <td>22.0</td>\n",
       "      <td>False</td>\n",
       "    </tr>\n",
       "    <tr>\n",
       "      <th>279968</th>\n",
       "      <td>1591.0</td>\n",
       "      <td>2056.0</td>\n",
       "      <td>23.20</td>\n",
       "      <td>2.0</td>\n",
       "      <td>48919.0</td>\n",
       "      <td>10129.0</td>\n",
       "      <td>192.0</td>\n",
       "      <td>98290.000000</td>\n",
       "      <td>5311.0</td>\n",
       "      <td>22.0</td>\n",
       "      <td>False</td>\n",
       "    </tr>\n",
       "    <tr>\n",
       "      <th>279969</th>\n",
       "      <td>138.0</td>\n",
       "      <td>4608.0</td>\n",
       "      <td>4.58</td>\n",
       "      <td>2.0</td>\n",
       "      <td>53894.0</td>\n",
       "      <td>6519.0</td>\n",
       "      <td>134.0</td>\n",
       "      <td>15759.000000</td>\n",
       "      <td>5411.0</td>\n",
       "      <td>22.0</td>\n",
       "      <td>False</td>\n",
       "    </tr>\n",
       "    <tr>\n",
       "      <th>279970</th>\n",
       "      <td>1571.0</td>\n",
       "      <td>45.0</td>\n",
       "      <td>64.43</td>\n",
       "      <td>2.0</td>\n",
       "      <td>26810.0</td>\n",
       "      <td>3633.0</td>\n",
       "      <td>2.0</td>\n",
       "      <td>35633.000000</td>\n",
       "      <td>5541.0</td>\n",
       "      <td>22.0</td>\n",
       "      <td>False</td>\n",
       "    </tr>\n",
       "    <tr>\n",
       "      <th>279971</th>\n",
       "      <td>1190.0</td>\n",
       "      <td>5771.0</td>\n",
       "      <td>26.84</td>\n",
       "      <td>2.0</td>\n",
       "      <td>19756.0</td>\n",
       "      <td>10577.0</td>\n",
       "      <td>147.0</td>\n",
       "      <td>29485.000000</td>\n",
       "      <td>7832.0</td>\n",
       "      <td>22.0</td>\n",
       "      <td>False</td>\n",
       "    </tr>\n",
       "  </tbody>\n",
       "</table>\n",
       "<p>279972 rows × 11 columns</p>\n",
       "</div>"
      ],
      "text/plain": [
       "        client_id  card_id  amount  use_chip  merchant_id  merchant_city  \\\n",
       "0          1168.0   3239.0  -68.00       2.0      59935.0         5844.0   \n",
       "1          1347.0   5678.0  770.92       0.0      68977.0        11916.0   \n",
       "2            37.0    265.0  105.22       0.0      91050.0         4506.0   \n",
       "3          1260.0   6081.0   81.32       1.0      73186.0         7822.0   \n",
       "4           898.0   3356.0    2.65       2.0      25717.0          134.0   \n",
       "...           ...      ...     ...       ...          ...            ...   \n",
       "279967     1242.0   5102.0   10.19       2.0      28032.0         1894.0   \n",
       "279968     1591.0   2056.0   23.20       2.0      48919.0        10129.0   \n",
       "279969      138.0   4608.0    4.58       2.0      53894.0         6519.0   \n",
       "279970     1571.0     45.0   64.43       2.0      26810.0         3633.0   \n",
       "279971     1190.0   5771.0   26.84       2.0      19756.0        10577.0   \n",
       "\n",
       "        merchant_state           zip     mcc  errors  is_fraud_Yes  \n",
       "0                122.0  89121.000000  5499.0    22.0         False  \n",
       "1                116.0  27896.000000  3174.0    22.0         False  \n",
       "2                123.0  13074.000000  4900.0    22.0         False  \n",
       "3                199.0  51328.550519  4814.0    22.0         False  \n",
       "4                134.0  18103.000000  5812.0    22.0         False  \n",
       "...                ...           ...     ...     ...           ...  \n",
       "279967            69.0  60620.000000  5921.0    22.0         False  \n",
       "279968           192.0  98290.000000  5311.0    22.0         False  \n",
       "279969           134.0  15759.000000  5411.0    22.0         False  \n",
       "279970             2.0  35633.000000  5541.0    22.0         False  \n",
       "279971           147.0  29485.000000  7832.0    22.0         False  \n",
       "\n",
       "[279972 rows x 11 columns]"
      ]
     },
     "execution_count": 3,
     "metadata": {},
     "output_type": "execute_result"
    }
   ],
   "source": [
    "balanced_data"
   ]
  },
  {
   "cell_type": "markdown",
   "id": "ec585ff8-9738-4ade-b437-21571fdd30b4",
   "metadata": {},
   "source": [
    "# Fraud Detection Using Random Forest Classifier with SMOTE and Visualizations"
   ]
  },
  {
   "cell_type": "code",
   "execution_count": null,
   "id": "03d85d37",
   "metadata": {},
   "outputs": [],
   "source": []
  },
  {
   "cell_type": "code",
   "execution_count": 4,
   "id": "3c201734-0aa5-48eb-b0b0-19bbd531aa2d",
   "metadata": {},
   "outputs": [
    {
     "name": "stdout",
     "output_type": "stream",
     "text": [
      "AUC: 0.9853843041511108\n",
      "              precision    recall  f1-score   support\n",
      "\n",
      "       False       0.99      0.99      0.99     53244\n",
      "        True       0.87      0.90      0.88      2751\n",
      "\n",
      "    accuracy                           0.99     55995\n",
      "   macro avg       0.93      0.95      0.94     55995\n",
      "weighted avg       0.99      0.99      0.99     55995\n",
      "\n"
     ]
    }
   ],
   "source": [
    "from sklearn.ensemble import RandomForestClassifier\n",
    "from sklearn.model_selection import train_test_split\n",
    "from sklearn.metrics import classification_report, roc_curve, auc\n",
    "from imblearn.over_sampling import SMOTE\n",
    "\n",
    "\n",
    "# 1. Separate features (X) and target (y)\n",
    "X = balanced_data.drop(columns=['is_fraud_Yes'])  # Features\n",
    "y = balanced_data['is_fraud_Yes']  # Target\n",
    "\n",
    "# 2. Split data into training and testing sets\n",
    "X_train, X_test, y_train, y_test = train_test_split(X, y, test_size=0.2, random_state=330)\n",
    "\n",
    "# 3. Apply SMOTE to handle class imbalance in the training set\n",
    "smote = SMOTE(sampling_strategy='auto', random_state=330)\n",
    "X_resampled, y_resampled = smote.fit_resample(X_train, y_train)\n",
    "\n",
    "# 4. Train Random Forest Classifier with balanced class weights\n",
    "rf_model = RandomForestClassifier(n_estimators=50, random_state=330, n_jobs=-1, class_weight='balanced')\n",
    "rf_model.fit(X_resampled, y_resampled)\n",
    "\n",
    "# 5. Evaluate model performance with AUC\n",
    "fpr, tpr, thresholds = roc_curve(y_test, rf_model.predict_proba(X_test)[:, 1])\n",
    "roc_auc = auc(fpr, tpr)\n",
    "print(f\"AUC: {roc_auc}\")\n",
    "\n",
    "# 6. Print classification report for detailed performance metrics\n",
    "print(classification_report(y_test, rf_model.predict(X_test)))\n"
   ]
  },
  {
   "cell_type": "markdown",
   "id": "a402b9e5-0447-4c00-be58-64b2d1c6efb2",
   "metadata": {},
   "source": []
  },
  {
   "cell_type": "code",
   "execution_count": null,
   "id": "05e767cc-b09a-4e2d-8e8f-2023b614c17d",
   "metadata": {},
   "outputs": [],
   "source": []
  },
  {
   "cell_type": "code",
   "execution_count": null,
   "id": "1213dffd",
   "metadata": {},
   "outputs": [],
   "source": []
  },
  {
   "cell_type": "code",
   "execution_count": 5,
   "id": "1649eb75-00b2-45f1-8967-2f785e90047c",
   "metadata": {},
   "outputs": [
    {
     "name": "stdout",
     "output_type": "stream",
     "text": [
      "AUC: 0.9783945496929821\n",
      "              precision    recall  f1-score   support\n",
      "\n",
      "       False       0.99      0.98      0.99     53244\n",
      "        True       0.75      0.90      0.82      2751\n",
      "\n",
      "    accuracy                           0.98     55995\n",
      "   macro avg       0.87      0.94      0.91     55995\n",
      "weighted avg       0.98      0.98      0.98     55995\n",
      "\n"
     ]
    }
   ],
   "source": [
    "from sklearn.ensemble import RandomForestClassifier\n",
    "from sklearn.model_selection import train_test_split\n",
    "from sklearn.metrics import classification_report, roc_curve, auc\n",
    "from imblearn.over_sampling import SMOTE\n",
    "\n",
    "# 1. Drop unnecessary columns from the dataset\n",
    "columns_to_drop = ['is_fraud_Yes', 'errors', 'client_id', 'card_id']\n",
    "X = balanced_data.drop(columns=columns_to_drop)  # Features\n",
    "y = balanced_data['is_fraud_Yes']  # Target\n",
    "\n",
    "# 2. Split data into training and testing sets\n",
    "X_train, X_test, y_train, y_test = train_test_split(X, y, test_size=0.2, random_state=330)\n",
    "\n",
    "# 3. Apply SMOTE to handle class imbalance in the training set\n",
    "smote = SMOTE(sampling_strategy='auto', random_state=330)\n",
    "X_resampled, y_resampled = smote.fit_resample(X_train, y_train)\n",
    "\n",
    "# 4. Train Random Forest Classifier with balanced class weights\n",
    "rf_model = RandomForestClassifier(n_estimators=50, random_state=330, n_jobs=-1, class_weight='balanced')\n",
    "rf_model.fit(X_resampled, y_resampled)\n",
    "\n",
    "# 5. Evaluate model performance with AUC\n",
    "fpr, tpr, thresholds = roc_curve(y_test, rf_model.predict_proba(X_test)[:, 1])\n",
    "roc_auc = auc(fpr, tpr)\n",
    "print(f\"AUC: {roc_auc}\")\n",
    "\n",
    "# 6. Print classification report for detailed performance metrics\n",
    "print(classification_report(y_test, rf_model.predict(X_test)))\n"
   ]
  },
  {
   "cell_type": "markdown",
   "id": "c12771bf-3d41-4625-8162-14e2c8596961",
   "metadata": {},
   "source": [
    "## Adjusting Threshold Using Precision-Recall Curve\n",
    "\n",
    "### Objective\n",
    "The goal is to optimize the model's performance by adjusting the decision threshold based on the Precision-Recall Curve, focusing on maximizing precision while maintaining recall."
   ]
  },
  {
   "cell_type": "code",
   "execution_count": 6,
   "id": "d31227b7",
   "metadata": {},
   "outputs": [
    {
     "name": "stdout",
     "output_type": "stream",
     "text": [
      "              precision    recall  f1-score   support\n",
      "\n",
      "       False       0.99      1.00      0.99     53244\n",
      "        True       0.91      0.82      0.87      2751\n",
      "\n",
      "    accuracy                           0.99     55995\n",
      "   macro avg       0.95      0.91      0.93     55995\n",
      "weighted avg       0.99      0.99      0.99     55995\n",
      "\n"
     ]
    }
   ],
   "source": [
    "from sklearn.metrics import precision_recall_curve\n",
    "\n",
    "# Get predicted probabilities\n",
    "y_proba = rf_model.predict_proba(X_test)[:, 1]\n",
    "\n",
    "# Precision-Recall curve\n",
    "precision, recall, thresholds = precision_recall_curve(y_test, y_proba)\n",
    "\n",
    "# Find the threshold that corresponds to the highest precision\n",
    "best_threshold_index = precision.argmax()\n",
    "\n",
    "# Ensure that the threshold has a corresponding value\n",
    "best_threshold = thresholds[best_threshold_index] if best_threshold_index < len(thresholds) else thresholds[-1]\n",
    "\n",
    "# Apply the threshold\n",
    "y_pred_adjusted = (y_proba >= best_threshold).astype(int)\n",
    "\n",
    "# Evaluate the adjusted model\n",
    "from sklearn.metrics import classification_report\n",
    "print(classification_report(y_test, y_pred_adjusted))"
   ]
  },
  {
   "cell_type": "markdown",
   "id": "d323b8b6-6c23-45e1-9cd1-45157b8d9dff",
   "metadata": {},
   "source": [
    "## Key Takeaways\n",
    "- Adjusting the threshold improved precision for fraud detection.\n",
    "- The model now makes fewer false-positive predictions while maintaining high recall for fraud cases."
   ]
  },
  {
   "cell_type": "code",
   "execution_count": null,
   "id": "3deefc2c-0333-4ade-a68b-b5eb468e0a45",
   "metadata": {},
   "outputs": [],
   "source": []
  },
  {
   "cell_type": "code",
   "execution_count": 8,
   "id": "30b0ac03",
   "metadata": {},
   "outputs": [],
   "source": [
    "%matplotlib inline\n",
    "import matplotlib.pyplot as plt"
   ]
  },
  {
   "cell_type": "code",
   "execution_count": 9,
   "id": "cbe9a1e5",
   "metadata": {},
   "outputs": [
    {
     "data": {
      "image/png": "[encoded data removed]",
      "text/plain": [
       "<Figure size 640x480 with 1 Axes>"
      ]
     },
     "metadata": {},
     "output_type": "display_data"
    }
   ],
   "source": [
    "import matplotlib.pyplot as plt\n",
    "\n",
    "# Plot the Precision-Recall curve\n",
    "plt.plot(recall, precision, marker='.')\n",
    "plt.xlabel('Recall')\n",
    "plt.ylabel('Precision')\n",
    "plt.title('Precision-Recall Curve')\n",
    "\n",
    "# Save the plot to a file\n",
    "plt.savefig('precision_recall_curve.png')\n",
    "\n",
    "# If you still want to show the plot, use plt.show() after saving\n",
    "plt.show()"
   ]
  },
  {
   "cell_type": "markdown",
   "id": "17eaff76-390c-4e7c-84b9-b2f10571c4d3",
   "metadata": {},
   "source": [
    "## Confusion Matrix Visualization\n",
    "\n",
    "## Objective\n",
    "To evaluate the performance of the Random Forest model by visualizing the confusion matrix, which shows the classification results (true positives, false positives, true negatives, false negatives).\n"
   ]
  },
  {
   "cell_type": "code",
   "execution_count": 10,
   "id": "847224bc",
   "metadata": {},
   "outputs": [
    {
     "data": {
      "image/png": "[encoded data removed]",
      "text/plain": [
       "<Figure size 640x480 with 2 Axes>"
      ]
     },
     "metadata": {},
     "output_type": "display_data"
    }
   ],
   "source": [
    "from sklearn.metrics import confusion_matrix\n",
    "import seaborn as sns\n",
    "\n",
    "y_pred = rf_model.predict(X_test)\n",
    "cm = confusion_matrix(y_test, y_pred)\n",
    "sns.heatmap(cm, annot=True, fmt='d', cmap='Blues', xticklabels=['Non-Fraud', 'Fraud'], yticklabels=['Non-Fraud', 'Fraud'])\n",
    "plt.xlabel('Predicted')\n",
    "plt.ylabel('True')\n",
    "plt.title('Confusion Matrix')\n",
    "plt.show()"
   ]
  },
  {
   "cell_type": "markdown",
   "id": "ebf57bdb-3023-43a0-a98c-ec55280708b2",
   "metadata": {},
   "source": [
    "### Values in the Matrix:\n",
    "- Top left (52467):\n",
    "This is the number of true negatives (TN).\n",
    "These are instances that are truly \"Non-Fraud\" and correctly predicted as \"Non-Fraud.\"\n",
    "- Top right (777):\n",
    "This is the number of false positives (FP).\n",
    "These are instances that are actually \"Non-Fraud\" but were incorrectly predicted as \"Fraud.\"\n",
    "- Bottom left (258):\n",
    "This is the number of false negatives (FN).\n",
    "These are instances that are truly \"Fraud\" but were incorrectly predicted as \"Non-Fraud.\"\n",
    "- Bottom right (2493):\n",
    "This is the number of true positives (TP).\n",
    "These are instances that are truly \"Fraud\" and correctly predicted as \"Fraud.\""
   ]
  },
  {
   "cell_type": "markdown",
   "id": "5ed4a559-6713-48a4-9d92-5f2e53d6e0b1",
   "metadata": {},
   "source": [
    "## Insights:\n",
    "- The model does well overall, as indicated by a high number of true negatives (52467) and true positives (2493).\n",
    "- There are some false positives (777) and false negatives (258), which could be areas to address if minimizing fraud-related errors is critical."
   ]
  },
  {
   "cell_type": "code",
   "execution_count": 11,
   "id": "233120bb",
   "metadata": {},
   "outputs": [
    {
     "name": "stdout",
     "output_type": "stream",
     "text": [
      "Precision-Recall AUC: 0.8567985766879088\n"
     ]
    }
   ],
   "source": [
    "from sklearn.metrics import average_precision_score\n",
    "pr_auc = average_precision_score(y_test, rf_model.predict_proba(X_test)[:, 1])\n",
    "print(f\"Precision-Recall AUC: {pr_auc}\")"
   ]
  },
  {
   "cell_type": "markdown",
   "id": "e2b626cf-c907-4384-ac91-7e3bdcda34c4",
   "metadata": {},
   "source": [
    "## What is Precision-Recall AUC?\n",
    "\n",
    "Precision-Recall AUC measures the trade-off between **Precision** and **Recall** for a binary classification model, especially useful for imbalanced datasets. The AUC value represents the area under the Precision-Recall curve.\n",
    "\n",
    "## Interpretation\n",
    "\n",
    "- An AUC of **0.8667** indicates that the model performs well, with a good balance between **Precision** and **Recall**."
   ]
  },
  {
   "cell_type": "code",
   "execution_count": 12,
   "id": "d70b7ca0",
   "metadata": {},
   "outputs": [
    {
     "name": "stdout",
     "output_type": "stream",
     "text": [
      "F1-Score: 0.8210630571145593\n"
     ]
    }
   ],
   "source": [
    "from sklearn.metrics import fbeta_score\n",
    "fbeta = fbeta_score(y_test, y_pred, beta=1)  # Adjust beta for balance\n",
    "print(f\"F1-Score: {fbeta}\")"
   ]
  },
  {
   "cell_type": "markdown",
   "id": "98f92e89-89f5-43ba-8da0-50a66195488c",
   "metadata": {},
   "source": [
    "## What is F1-Score?\n",
    "\n",
    "The **F1-Score** is the harmonic mean of **Precision** and **Recall**, providing a single metric that balances both. It is particularly useful when dealing with imbalanced datasets, as it considers both false positives and false negatives.\n",
    "\n",
    "## Interpretation\n",
    "\n",
    "An **F1-Score of 0.8281** indicates that the model has a good balance between **Precision** and **Recall**. The closer the F1-Score is to 1, the better the model is at identifying positive cases without introducing too many false positives or false negatives."
   ]
  },
  {
   "cell_type": "code",
   "execution_count": 13,
   "id": "9b8e1354",
   "metadata": {},
   "outputs": [
    {
     "data": {
      "text/plain": [
       "array([0.99026699, 0.99055719, 0.98995424, 0.98966403, 0.99022212])"
      ]
     },
     "execution_count": 13,
     "metadata": {},
     "output_type": "execute_result"
    }
   ],
   "source": [
    "from sklearn.model_selection import cross_val_score\n",
    "cross_val_score(rf_model, X_train, y_train, cv=5, scoring='accuracy')"
   ]
  },
  {
   "cell_type": "markdown",
   "id": "19c92aaa-877b-4543-a9be-a4da4d31dafa",
   "metadata": {},
   "source": [
    "# AUC Scores Array\n",
    "\n",
    "The array represents the **AUC** scores from cross-validation or multiple evaluations of the model. Each value corresponds to the AUC score for a specific fold or evaluation.\n",
    "\n",
    "## Interpretation:\n",
    "\n",
    "- **AUC** (Area Under the Curve) measures the model's ability to distinguish between positive and negative classes.\n",
    "- Higher AUC scores (closer to 1) indicate better performance.\n",
    "- In this case, the AUC scores are consistently high (around **0.99**), suggesting that the model performs excellently in distinguishing fraudulent from non-fraudulent transactions.\n",
    "\n",
    "### Conclusion:\n",
    "\n",
    "These results imply that the model has high discriminatory power, with AUC values indicating a strong ability to predict fraud cases effectively.\n"
   ]
  },
  {
   "cell_type": "code",
   "execution_count": 14,
   "id": "9ed4edb4",
   "metadata": {},
   "outputs": [
    {
     "data": {
      "image/png": "[encoded data removed]",
      "text/plain": [
       "<Figure size 640x480 with 1 Axes>"
      ]
     },
     "metadata": {},
     "output_type": "display_data"
    }
   ],
   "source": [
    "import matplotlib.pyplot as plt\n",
    "from sklearn.metrics import roc_curve, auc\n",
    "\n",
    "fpr, tpr, thresholds = roc_curve(y_test, rf_model.predict_proba(X_test)[:, 1])\n",
    "roc_auc = auc(fpr, tpr)\n",
    "\n",
    "plt.figure()\n",
    "plt.plot(fpr, tpr, color='darkorange', lw=2, label='ROC curve (area = %0.2f)' % roc_auc)\n",
    "plt.plot([0, 1], [0, 1], color='navy', lw=2, linestyle='--')\n",
    "plt.xlim([0.0, 1.0])\n",
    "plt.ylim([0.0, 1.05])\n",
    "plt.xlabel('False Positive Rate')\n",
    "plt.ylabel('True Positive Rate')\n",
    "plt.title('Receiver Operating Characteristic (ROC) Curve')\n",
    "plt.legend(loc=\"lower right\")\n",
    "plt.show()"
   ]
  },
  {
   "cell_type": "markdown",
   "id": "332cb505-800c-4805-94a7-0f5fe0fdebe8",
   "metadata": {},
   "source": [
    "# ROC Curve with AUC\n",
    "\n",
    "The ROC (Receiver Operating Characteristic) curve visualizes the performance of a binary classification model at various thresholds.\n",
    "\n",
    "### ROC Curve:\n",
    "- The **True Positive Rate (TPR)** is plotted on the Y-axis, and the **False Positive Rate (FPR)** is plotted on the X-axis.\n",
    "- The curve shows the trade-off between sensitivity (recall) and the false positive rate at different threshold values.\n",
    "\n",
    "### AUC (Area Under the Curve):\n",
    "- **AUC = 0.98** indicates that the model has excellent discriminative power, meaning it can effectively distinguish between the two classes (fraud and non-fraud).\n",
    "- AUC values closer to 1 indicate better performance, with 0.98 being a strong result for fraud detection.\n",
    "\n",
    "### Conclusion:\n",
    "This ROC curve and AUC value demonstrate that the model performs well in identifying fraudulent transactions while minimizing false positives."
   ]
  },
  {
   "cell_type": "markdown",
   "id": "73f372d2-314f-44e1-93a2-090d19d05820",
   "metadata": {},
   "source": [
    "# THANK-YOU"
   ]
  },
  {
   "cell_type": "code",
   "execution_count": null,
   "id": "3abce862-b161-426f-b301-98141a8e67f2",
   "metadata": {},
   "outputs": [],
   "source": []
  },
  {
   "cell_type": "code",
   "execution_count": 15,
   "id": "dae64c4a-2fb6-4568-b769-ed87287f785d",
   "metadata": {},
   "outputs": [],
   "source": [
    "import pickle\n",
    "with open(\"fraud_detection_model.pkl\", \"wb\") as file:\n",
    "    pickle.dump(rf_model, file)"
   ]
  },
  {
   "cell_type": "code",
   "execution_count": 16,
   "id": "c452d957-1ad5-4597-ad3a-fbb3050c25c2",
   "metadata": {},
   "outputs": [
    {
     "name": "stderr",
     "output_type": "stream",
     "text": [
      "2024-12-09 21:00:50.848 Thread 'MainThread': missing ScriptRunContext! This warning can be ignored when running in bare mode.\n",
      "2024-12-09 21:00:50.849 Thread 'MainThread': missing ScriptRunContext! This warning can be ignored when running in bare mode.\n",
      "2024-12-09 21:00:50.849 Thread 'MainThread': missing ScriptRunContext! This warning can be ignored when running in bare mode.\n",
      "2024-12-09 21:00:50.849 Thread 'MainThread': missing ScriptRunContext! This warning can be ignored when running in bare mode.\n",
      "2024-12-09 21:00:50.850 Thread 'MainThread': missing ScriptRunContext! This warning can be ignored when running in bare mode.\n",
      "2024-12-09 21:00:50.850 Thread 'MainThread': missing ScriptRunContext! This warning can be ignored when running in bare mode.\n",
      "2024-12-09 21:00:50.850 Thread 'MainThread': missing ScriptRunContext! This warning can be ignored when running in bare mode.\n",
      "2024-12-09 21:00:50.850 Thread 'MainThread': missing ScriptRunContext! This warning can be ignored when running in bare mode.\n",
      "2024-12-09 21:00:50.850 Thread 'MainThread': missing ScriptRunContext! This warning can be ignored when running in bare mode.\n",
      "2024-12-09 21:00:50.851 Thread 'MainThread': missing ScriptRunContext! This warning can be ignored when running in bare mode.\n",
      "2024-12-09 21:00:50.851 Thread 'MainThread': missing ScriptRunContext! This warning can be ignored when running in bare mode.\n",
      "2024-12-09 21:00:50.851 Thread 'MainThread': missing ScriptRunContext! This warning can be ignored when running in bare mode.\n",
      "2024-12-09 21:00:50.873 Thread 'MainThread': missing ScriptRunContext! This warning can be ignored when running in bare mode.\n",
      "2024-12-09 21:00:50.873 Thread 'MainThread': missing ScriptRunContext! This warning can be ignored when running in bare mode.\n",
      "2024-12-09 21:00:50.873 Thread 'MainThread': missing ScriptRunContext! This warning can be ignored when running in bare mode.\n",
      "2024-12-09 21:00:50.874 Thread 'MainThread': missing ScriptRunContext! This warning can be ignored when running in bare mode.\n"
     ]
    }
   ],
   "source": [
    "import streamlit as st\n",
    "import pandas as pd\n",
    "import pickle  # To load your pre-trained model\n",
    "from sklearn.preprocessing import StandardScaler\n",
    "\n",
    "# Title and description\n",
    "st.title(\"Fraud Detection App\")\n",
    "st.markdown(\"\"\"\n",
    "This app predicts fraudulent transactions using a machine learning model. \n",
    "Upload a dataset to get started!\n",
    "\"\"\")\n",
    "\n",
    "# File uploader\n",
    "uploaded_file = st.file_uploader(\"Upload your CSV file\", type=[\"csv\"])\n",
    "\n",
    "# Load the trained model (update the path to your model file)\n",
    "@st.cache_resource\n",
    "def load_model():\n",
    "    with open(\"fraud_detection_model.pkl\", \"rb\") as file:\n",
    "        return pickle.load(file)\n",
    "\n",
    "model = load_model()\n",
    "\n",
    "if uploaded_file is not None:\n",
    "    # Read the uploaded file\n",
    "    data = pd.read_csv(uploaded_file)\n",
    "    st.write(\"### Uploaded Data Preview\")\n",
    "    st.dataframe(data.head())\n",
    "    \n",
    "    # Select features for prediction\n",
    "    st.write(\"### Select Columns for Prediction\")\n",
    "    features = st.multiselect(\n",
    "        \"Choose the features used for prediction\",\n",
    "        options=data.columns,\n",
    "        default=[\"amount\", \"use_chip\", \"merchant_id\", \"merchant_state\", \"zip\", \"mcc\"]\n",
    "    )\n",
    "    \n",
    "    if features:\n",
    "        # Extract the selected features\n",
    "        X = data[features]\n",
    "        \n",
    "        # Preprocess the data (scaling)\n",
    "        scaler = StandardScaler()\n",
    "        X_scaled = scaler.fit_transform(X)\n",
    "        \n",
    "        # Make predictions\n",
    "        predictions = model.predict(X_scaled)\n",
    "        probabilities = model.predict_proba(X_scaled)[:, 1]  # Probability of being fraudulent\n",
    "        \n",
    "        # Add predictions and probabilities to the dataframe\n",
    "        data[\"is_fraud_prediction\"] = predictions\n",
    "        data[\"fraud_probability\"] = probabilities\n",
    "        \n",
    "        # Display the results\n",
    "        st.write(\"### Prediction Results\")\n",
    "        st.dataframe(data[[\"is_fraud_prediction\", \"fraud_probability\"]].head())\n",
    "        \n",
    "        # Download option for results\n",
    "        st.write(\"### Download the Results\")\n",
    "        csv = data.to_csv(index=False)\n",
    "        st.download_button(\n",
    "            label=\"Download Predictions as CSV\",\n",
    "            data=csv,\n",
    "            file_name=\"fraud_predictions.csv\",\n",
    "            mime=\"text/csv\"\n",
    "        )\n",
    "else:\n",
    "    st.info(\"Please upload a CSV file to get started.\")"
   ]
  },
  {
   "cell_type": "code",
   "execution_count": 17,
   "id": "4092ca47-efbf-4b3e-8b58-dc6c20337180",
   "metadata": {},
   "outputs": [
    {
     "name": "stderr",
     "output_type": "stream",
     "text": [
      "2024-12-09 21:00:50.877 Thread 'MainThread': missing ScriptRunContext! This warning can be ignored when running in bare mode.\n",
      "2024-12-09 21:00:50.877 Thread 'MainThread': missing ScriptRunContext! This warning can be ignored when running in bare mode.\n",
      "2024-12-09 21:00:50.877 Thread 'MainThread': missing ScriptRunContext! This warning can be ignored when running in bare mode.\n",
      "2024-12-09 21:00:50.878 Thread 'MainThread': missing ScriptRunContext! This warning can be ignored when running in bare mode.\n",
      "2024-12-09 21:00:50.878 Thread 'MainThread': missing ScriptRunContext! This warning can be ignored when running in bare mode.\n"
     ]
    }
   ],
   "source": [
    "# Feature Importance Visualization\n",
    "if st.button(\"Show Feature Importances\"):\n",
    "    try:\n",
    "        feature_importances = model.feature_importances_\n",
    "        importance_df = pd.DataFrame({\n",
    "            \"Feature\": features,\n",
    "            \"Importance\": feature_importances\n",
    "        }).sort_values(by=\"Importance\", ascending=False)\n",
    "        \n",
    "        # Plotting\n",
    "        plt.figure(figsize=(10, 6))\n",
    "        sns.barplot(x=\"Importance\", y=\"Feature\", data=importance_df, palette=\"viridis\")\n",
    "        plt.title(\"Feature Importances\")\n",
    "        plt.xlabel(\"Importance\")\n",
    "        plt.ylabel(\"Features\")\n",
    "        st.pyplot(plt)\n",
    "    except AttributeError:\n",
    "        st.error(\"Feature importances are not available for this model.\")\n"
   ]
  },
  {
   "cell_type": "code",
   "execution_count": 18,
   "id": "d0858915-2960-4386-a03f-e93ba6f95e02",
   "metadata": {},
   "outputs": [
    {
     "name": "stderr",
     "output_type": "stream",
     "text": [
      "2024-12-09 21:01:07.917 Thread 'MainThread': missing ScriptRunContext! This warning can be ignored when running in bare mode.\n",
      "2024-12-09 21:01:07.918 Thread 'MainThread': missing ScriptRunContext! This warning can be ignored when running in bare mode.\n",
      "2024-12-09 21:01:07.919 Thread 'MainThread': missing ScriptRunContext! This warning can be ignored when running in bare mode.\n",
      "2024-12-09 21:01:07.920 Thread 'MainThread': missing ScriptRunContext! This warning can be ignored when running in bare mode.\n",
      "2024-12-09 21:01:07.920 Thread 'MainThread': missing ScriptRunContext! This warning can be ignored when running in bare mode.\n"
     ]
    }
   ],
   "source": [
    "import streamlit as st\n",
    "# AUC Visualization\n",
    "if st.button(\"Show AUC Plot\"):\n",
    "    # Generate predictions and probabilities\n",
    "    y_true = data[\"is_fraud_Yes\"]  # Replace with actual target column if available\n",
    "    y_pred_prob = model.predict_proba(X_scaled)[:, 1]\n",
    "    \n",
    "    # Compute ROC curve and AUC\n",
    "    fpr, tpr, _ = roc_curve(y_true, y_pred_prob)\n",
    "    roc_auc = auc(fpr, tpr)\n",
    "    \n",
    "    # Plotting\n",
    "    plt.figure(figsize=(10, 6))\n",
    "    plt.plot(fpr, tpr, color='blue', lw=2, label=f'ROC Curve (AUC = {roc_auc:.2f})')\n",
    "    plt.plot([0, 1], [0, 1], color='gray', linestyle='--', lw=1)\n",
    "    plt.xlabel('False Positive Rate')\n",
    "    plt.ylabel('True Positive Rate')\n",
    "    plt.title('Receiver Operating Characteristic (ROC) Curve')\n",
    "    plt.legend(loc='lower right')\n",
    "    st.pyplot(plt)\n"
   ]
  }
 ],
 "metadata": {
  "kernelspec": {
   "display_name": "Python 3 (ipykernel)",
   "language": "python",
   "name": "python3"
  },
  "language_info": {
   "codemirror_mode": {
    "name": "ipython",
    "version": 3
   },
   "file_extension": ".py",
   "mimetype": "text/x-python",
   "name": "python",
   "nbconvert_exporter": "python",
   "pygments_lexer": "ipython3",
   "version": "3.11.9"
  }
 },
 "nbformat": 4,
 "nbformat_minor": 5
}
